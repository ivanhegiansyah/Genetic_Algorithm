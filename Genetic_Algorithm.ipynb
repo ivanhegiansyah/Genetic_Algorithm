{
  "nbformat": 4,
  "nbformat_minor": 0,
  "metadata": {
    "colab": {
      "name": "03_IF4303_1301190219.ipynb",
      "provenance": [],
      "collapsed_sections": [],
      "include_colab_link": true
    },
    "kernelspec": {
      "name": "python3",
      "display_name": "Python 3.9.1 64-bit",
      "metadata": {
        "interpreter": {
          "hash": "8da01e5a71448ea74f54d88afa8911010d1d12e23bc7e103d40d5def4a09152c"
        }
      }
    },
    "language_info": {
      "name": "python",
      "version": "3.9.1-final"
    }
  },
  "cells": [
    {
      "cell_type": "markdown",
      "metadata": {
        "id": "view-in-github",
        "colab_type": "text"
      },
      "source": [
        "<a href=\"https://colab.research.google.com/github/ivanhegiansyah/Genetic_Algorithm/blob/main/Genetic_Algorithm.ipynb\" target=\"_parent\"><img src=\"https://colab.research.google.com/assets/colab-badge.svg\" alt=\"Open In Colab\"/></a>"
      ]
    },
    {
      "cell_type": "code",
      "metadata": {
        "id": "5Vyqjwrq84bQ"
      },
      "source": [
        "import random\n",
        "import math\n",
        "import matplotlib.pyplot as plt"
      ],
      "execution_count": null,
      "outputs": []
    },
    {
      "cell_type": "code",
      "metadata": {
        "id": "78oYeM2N8_EB"
      },
      "source": [
        "def out_pop(panjang_krom, n):\n",
        "  pop = []\n",
        "\n",
        "  for i in range(n):\n",
        "    krom = []\n",
        "    for j in range(panjang_krom):\n",
        "      krom.append(random.randint(0, 1))\n",
        "\n",
        "    pop.append(krom)\n",
        "  \n",
        "  return pop"
      ],
      "execution_count": null,
      "outputs": []
    },
    {
      "cell_type": "code",
      "metadata": {
        "id": "yWYnuudy-V4x"
      },
      "source": [
        "def decode_krom(krom, xr, yr):\n",
        "  \n",
        "  #titik potong krommosom x, y\n",
        "  setengah_krom = len(krom) // 2\n",
        "\n",
        "  #hitung bagian bawah \n",
        "  bawah = sum([2 ** -(i) for i in range(1, setengah_krom + 1)])\n",
        "  \n",
        "  #menghitung bagian terkanan rumus\n",
        "  kx = 0\n",
        "  krom_x = krom[:setengah_krom]\n",
        "  for i in range(1, setengah_krom + 1):\n",
        "    kx += krom_x[i-1] * (2 ** -i)\n",
        "\n",
        "  #menghitung bagian terkanan rumus\n",
        "  ky = 0\n",
        "  krom_y = krom[setengah_krom:]\n",
        "  for i in range(1, setengah_krom + 1):\n",
        "    ky += krom_y[i-1] * (2 ** -i)\n",
        "\n",
        "  #hitung x, y\n",
        "  x = xr[\"min\"] + (((xr[\"max\"] - xr[\"min\"]) * kx) / bawah)\n",
        "  y = yr[\"min\"] + (((yr[\"max\"] - yr[\"min\"]) * ky) / bawah)\n",
        "\n",
        "  return x, y"
      ],
      "execution_count": null,
      "outputs": []
    },
    {
      "cell_type": "code",
      "metadata": {
        "id": "4_HTN_o_DSyq"
      },
      "source": [
        "#mencari nilai maksimum dari fungsi\n",
        "def fitness(x, y):\n",
        "\n",
        "  return f(x, y)"
      ],
      "execution_count": null,
      "outputs": []
    },
    {
      "cell_type": "code",
      "metadata": {
        "id": "SYM4YbUGDt5j"
      },
      "source": [
        "def parent_selection(pop, fit_pop):\n",
        "  n = len(pop)\n",
        "\n",
        "  #nilai fitness dinormalisasi\n",
        "  min_ = min(fit_pop)\n",
        "  max_ = max(fit_pop)\n",
        "  for i in range(n):\n",
        "    if (max_ - min_) != 0:\n",
        "      fit_pop[i] = (fit_pop[i] - min_) / (max_ - min_)\n",
        "    else:\n",
        "      fit_pop[i] = 1\n",
        "\n",
        "  #hitung total dari semua fitness populasi\n",
        "  total_fit = sum(fit_pop)\n",
        "\n",
        "  #roulette wheel selection\n",
        "  ortu = []\n",
        "  while len(ortu) != 2:\n",
        "    r, i = random.random(), -1\n",
        "    while r > 0:\n",
        "      i = i + 1\n",
        "      r = r - (fit_pop[i] / total_fit)\n",
        "    ortu.append(pop[i])\n",
        "  \n",
        "  return ortu"
      ],
      "execution_count": null,
      "outputs": []
    },
    {
      "cell_type": "code",
      "metadata": {
        "id": "xKcwHiRaF1gw"
      },
      "source": [
        "def crossover(ortu):\n",
        "  #Two Point Crossover\n",
        "  panjang_krom = len(ortu[0])\n",
        "\n",
        "  cross_point1 = random.randint(0, panjang_krom//3)\n",
        "  cross_point2 = random.randint(cross_point1+1, panjang_krom)\n",
        "\n",
        "  anak = [[], []]\n",
        "  anak[0] = ortu[0][:cross_point1] + ortu[1][cross_point1:cross_point2] + ortu[0][cross_point2:]\n",
        "  anak[1] = ortu[1][:cross_point1] + ortu[0][cross_point1:cross_point2] + ortu[1][cross_point2:]\n",
        "\n",
        "  return anak"
      ],
      "execution_count": null,
      "outputs": []
    },
    {
      "cell_type": "code",
      "metadata": {
        "id": "X9ztqx7NGpOj"
      },
      "source": [
        "def mutation(anak, prob):\n",
        "  #Bit-Level Mutation\n",
        "  panjang_krom = len(anak[0])\n",
        "\n",
        "  for i in range(2):\n",
        "    for j in range(panjang_krom):\n",
        "      if random.random() <= prob:\n",
        "        anak[i][j] = [0, 1][not anak[i][j] ]\n",
        "\n",
        "  return anak"
      ],
      "execution_count": null,
      "outputs": []
    },
    {
      "cell_type": "code",
      "metadata": {
        "id": "dpPtPkO-Hw3J"
      },
      "source": [
        "#parameter\n",
        "prob_crossover, prob_mutasi = 0.7, 0.1\n",
        "panjang_krom, n_pop = 8, 8\n",
        "n_elitisme = 2"
      ],
      "execution_count": null,
      "outputs": []
    },
    {
      "cell_type": "code",
      "metadata": {
        "id": "vMAFpJc7gCoK"
      },
      "source": [
        "#fungsi\n",
        "def f(x, y):\n",
        "  return (math.cos(x**2) * math.sin(y**2)) + (x + y)\n",
        "\n",
        "xr = {\"min\" : -1, \"max\" : 2}\n",
        "yr = {\"min\" : -1, \"max\" : 1}"
      ],
      "execution_count": null,
      "outputs": []
    },
    {
      "cell_type": "code",
      "metadata": {
        "colab": {
          "base_uri": "https://localhost:8080/"
        },
        "id": "mRc9b1sygmnI",
        "outputId": "b4c114c2-ba38-435c-9373-560625550fb9"
      },
      "source": [
        "seed = 8\n",
        "random.seed(seed)\n",
        "\n",
        "generasi = 50 \n",
        "terbaik = []\n",
        "pop = out_pop(panjang_krom, n_pop)\n",
        "\n",
        "for i in range(generasi):\n",
        "  fit_pop = []\n",
        "  for krom in pop:\n",
        "    x, y = decode_krom(krom, xr, yr)\n",
        "    fit_pop.append(fitness(x, y))\n",
        "  \n",
        "  terbaik.append( max(fit_pop) )\n",
        "\n",
        "  sorted_pop = [k for _, k in sorted(zip(fit_pop, pop), reverse=True)]\n",
        "\n",
        "  new_pop = sorted_pop[:n_elitisme]\n",
        "\n",
        "  if (i + 1) % 5 == 0:\n",
        "    print(\"Generasi ke-\",i + 1, \"Terbaik :\",terbaik[i])\n",
        "\n",
        "  while len(new_pop) <= n_pop:\n",
        "\n",
        "    ortu = parent_selection(pop, fit_pop)\n",
        "\n",
        "    if random.random() < prob_crossover:\n",
        "      anak = mutation(crossover(ortu), prob_mutasi)\n",
        "    else:\n",
        "      new_pop += ortu \n",
        "\n",
        "    new_pop = new_pop + anak\n",
        "  \n",
        "  pop = new_pop + []"
      ],
      "execution_count": null,
      "outputs": [
        {
          "output_type": "stream",
          "text": [
            "Generasi ke- 5 Terbaik : 2.3697381946251177\n",
            "Generasi ke- 10 Terbaik : 2.420586710403935\n",
            "Generasi ke- 15 Terbaik : 2.4499778586384973\n",
            "Generasi ke- 20 Terbaik : 2.4499778586384973\n",
            "Generasi ke- 25 Terbaik : 2.454648713412841\n",
            "Generasi ke- 30 Terbaik : 2.454648713412841\n",
            "Generasi ke- 35 Terbaik : 2.474940307297132\n",
            "Generasi ke- 40 Terbaik : 2.474940307297132\n",
            "Generasi ke- 45 Terbaik : 2.474940307297132\n",
            "Generasi ke- 50 Terbaik : 2.474940307297132\n"
          ],
          "name": "stdout"
        }
      ]
    },
    {
      "cell_type": "code",
      "metadata": {
        "id": "CofsbbMbnion",
        "colab": {
          "base_uri": "https://localhost:8080/"
        },
        "outputId": "9a27f44f-628d-4342-af11-228849230af7"
      },
      "source": [
        "#mencari x, y terbaik\n",
        "print(\"nilai x dan y terbaik =\",decode_krom(sorted_pop[0], xr, yr))"
      ],
      "execution_count": null,
      "outputs": [
        {
          "output_type": "stream",
          "text": [
            "nilai x dan y terbaik = (0.8, 1.0)\n"
          ],
          "name": "stdout"
        }
      ]
    },
    {
      "cell_type": "code",
      "metadata": {
        "id": "Ko5YnnyIkkzb",
        "colab": {
          "base_uri": "https://localhost:8080/",
          "height": 295
        },
        "outputId": "21a1b46f-3aff-4343-d12b-a0d50a54d2dd"
      },
      "source": [
        "#melihat pertumbuhan fitness terbaik\n",
        "plt.plot(range(1, generasi+1), terbaik)\n",
        "plt.title(\"Perubahan fitness per-generasi\")\n",
        "plt.xlabel(\"Generasi\")\n",
        "plt.ylabel(\"Fitness Terbaik\")\n",
        "plt.show()"
      ],
      "execution_count": null,
      "outputs": [
        {
          "output_type": "display_data",
          "data": {
            "image/png": "[encoded data removed]",
            "text/plain": [
              "<Figure size 432x288 with 1 Axes>"
            ]
          },
          "metadata": {
            "tags": [],
            "needs_background": "light"
          }
        }
      ]
    }
  ]
}